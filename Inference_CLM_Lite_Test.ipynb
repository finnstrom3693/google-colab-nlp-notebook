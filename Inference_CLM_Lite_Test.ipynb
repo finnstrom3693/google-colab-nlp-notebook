{
  "cells": [
    {
      "cell_type": "code",
      "execution_count": null,
      "metadata": {
        "id": "DS-yfleN6IK9"
      },
      "outputs": [],
      "source": [
        "!pip install transformers torch ipython"
      ]
    },
    {
      "cell_type": "code",
      "execution_count": 2,
      "metadata": {
        "id": "zdhtJMbe9ieY"
      },
      "outputs": [],
      "source": [
        "import torch\n",
        "from transformers import AutoModelForCausalLM, AutoTokenizer\n",
        "from IPython.display import display, HTML"
      ]
    },
    {
      "cell_type": "markdown",
      "source": [
        "My Model"
      ],
      "metadata": {
        "id": "gR4hg1IsKA2_"
      }
    },
    {
      "cell_type": "code",
      "source": [
        "repo = \"nqzfaizal77ai/mt-230m-pretrained-en-1bc-exp\""
      ],
      "metadata": {
        "id": "niMEjbQ1h5Ww"
      },
      "execution_count": null,
      "outputs": []
    },
    {
      "cell_type": "code",
      "source": [
        "repo = \"nqzfaizal77ai/ql-250m-pretrained-en-1bc-exp\""
      ],
      "metadata": {
        "id": "sx7UAKsm1GKu"
      },
      "execution_count": null,
      "outputs": []
    },
    {
      "cell_type": "code",
      "source": [
        "repo = \"nqzfaizal77ai/qlpt-m-en-1bc-exp\""
      ],
      "metadata": {
        "id": "hLML8fcHmffk"
      },
      "execution_count": 34,
      "outputs": []
    },
    {
      "cell_type": "code",
      "source": [
        "repo = \"nqzfaizal77ai/qlpt-m-en-1bc-exp2\""
      ],
      "metadata": {
        "id": "uGYUqZ540D1L"
      },
      "execution_count": 29,
      "outputs": []
    },
    {
      "cell_type": "code",
      "source": [
        "repo = \"nqzfaizal77ai/qlpt-m-wikipedia-en-1bc-exp\""
      ],
      "metadata": {
        "id": "wuLJHkF8Qq0e"
      },
      "execution_count": null,
      "outputs": []
    },
    {
      "cell_type": "code",
      "source": [
        "repo = \"nqzfaizal77ai/qlpt-m-wikipedia-en-1bc-exp2\""
      ],
      "metadata": {
        "id": "Rw3q1JJf0Fcx"
      },
      "execution_count": null,
      "outputs": []
    },
    {
      "cell_type": "code",
      "source": [
        "repo = \"nqzfaizal77ai/qlpt-m-sft-en-1bc-exp\""
      ],
      "metadata": {
        "id": "I2tJ1GEM9LIq"
      },
      "execution_count": null,
      "outputs": []
    },
    {
      "cell_type": "markdown",
      "source": [
        "Other Pretrained Model"
      ],
      "metadata": {
        "id": "Kb18uuYcKC7b"
      }
    },
    {
      "cell_type": "code",
      "source": [
        "repo = \"Qwen/Qwen3-1.7B\""
      ],
      "metadata": {
        "id": "BqZ4BrW3g6C0"
      },
      "execution_count": null,
      "outputs": []
    },
    {
      "cell_type": "code",
      "source": [
        "repo = \"HuggingFaceTB/SmolLM-1.7B\""
      ],
      "metadata": {
        "id": "Ht-0VPAf3LlR"
      },
      "execution_count": null,
      "outputs": []
    },
    {
      "cell_type": "code",
      "source": [
        "repo = \"openai-community/gpt2-large\""
      ],
      "metadata": {
        "id": "Jr6i6Cpr3VJz"
      },
      "execution_count": null,
      "outputs": []
    },
    {
      "cell_type": "code",
      "source": [
        "repo = \"EleutherAI/gpt-neo-1.3B\""
      ],
      "metadata": {
        "id": "4c7ILuMM3W2J"
      },
      "execution_count": null,
      "outputs": []
    },
    {
      "cell_type": "code",
      "execution_count": 14,
      "metadata": {
        "id": "ZxdbfhsfbMw_"
      },
      "outputs": [],
      "source": [
        "precision = 'full' # @param [\"half\", \"full\"]\n",
        "if precision == \"half\":\n",
        "    selected_precision = torch.float16\n",
        "elif precision == \"full\":\n",
        "    selected_precision = torch.float32"
      ]
    },
    {
      "cell_type": "code",
      "execution_count": 15,
      "metadata": {
        "id": "fS7L9e-pbMxF"
      },
      "outputs": [],
      "source": [
        "device = torch.device(\"cuda\") if torch.cuda.is_available() else torch.device(\"cpu\")"
      ]
    },
    {
      "cell_type": "code",
      "execution_count": 35,
      "metadata": {
        "id": "czXanMio-f9H"
      },
      "outputs": [],
      "source": [
        "model = AutoModelForCausalLM.from_pretrained(repo, torch_dtype=selected_precision)\n",
        "model.to(device)\n",
        "tokenizer = AutoTokenizer.from_pretrained(repo)"
      ]
    },
    {
      "cell_type": "code",
      "execution_count": 36,
      "metadata": {
        "id": "h7MJFSlJbMxJ"
      },
      "outputs": [],
      "source": [
        "# @title Hyperparameter Inference\n",
        "max_length = 50  # @param {type:\"integer\"} (maximum length of generated text)\n",
        "min_length = 10   # @param {type:\"integer\"} (minimum length should be less than max_length)\n",
        "top_k = 50        # @param {type:\"integer\"} (typical range 0-100)\n",
        "top_p = 0.92      # @param {type:\"number\"} (should be <= 1.0, typically 0.7-0.95)\n",
        "temperature = 0.7  # @param {type:\"number\"} (typically 0.1-1.0, higher = more random)\n",
        "repetition_penalty = 1.2  # @param {type:\"number\"} (typically 1.0-1.5)\n",
        "do_sample = True   # @param {type:\"boolean\"}\n",
        "use_cache = True   # @param {type:\"boolean\"}"
      ]
    },
    {
      "cell_type": "markdown",
      "source": [
        "SFT Test"
      ],
      "metadata": {
        "id": "-sogUjot9YYs"
      }
    },
    {
      "cell_type": "code",
      "source": [
        "prompt = \"\"\"Input:\n",
        "what is weakness person who like to incite other?\n",
        "\"\"\""
      ],
      "metadata": {
        "id": "qk8RjdY_9bdT"
      },
      "execution_count": null,
      "outputs": []
    },
    {
      "cell_type": "markdown",
      "source": [
        "Test Targeted"
      ],
      "metadata": {
        "id": "VgZqysYG__Zh"
      }
    },
    {
      "cell_type": "code",
      "source": [
        "prompt = \"The person who likes to incite others has a weakness\""
      ],
      "metadata": {
        "id": "B3xQjarLkRJg"
      },
      "execution_count": null,
      "outputs": []
    },
    {
      "cell_type": "code",
      "source": [
        "prompt = \"Discourage,Restrain,Dissuade,Calming is nemesis action of inciter and\""
      ],
      "metadata": {
        "id": "20djMaoH1aKj"
      },
      "execution_count": null,
      "outputs": []
    },
    {
      "cell_type": "code",
      "source": [
        "prompt = \"Engaging in backbiting not only damages\""
      ],
      "metadata": {
        "id": "-KUxB4Ks_-HF"
      },
      "execution_count": null,
      "outputs": []
    },
    {
      "cell_type": "code",
      "source": [
        "prompt = \"Bullying is entertainment for evil person\""
      ],
      "metadata": {
        "id": "eN5oqMSpJ1Hy"
      },
      "execution_count": null,
      "outputs": []
    },
    {
      "cell_type": "markdown",
      "source": [
        "Test General"
      ],
      "metadata": {
        "id": "ei7bDvMJ2XMa"
      }
    },
    {
      "cell_type": "code",
      "source": [
        "prompt = \"Technology changes faster than most people expect\""
      ],
      "metadata": {
        "id": "M7gMCLu12YNQ"
      },
      "execution_count": null,
      "outputs": []
    },
    {
      "cell_type": "code",
      "source": [
        "prompt = \"He walked into the room, unsure of what he would find\""
      ],
      "metadata": {
        "id": "MdDbSscs2aWD"
      },
      "execution_count": null,
      "outputs": []
    },
    {
      "cell_type": "code",
      "source": [
        "prompt = \"The sky turned orange as the sun began to set\""
      ],
      "metadata": {
        "id": "n21fBeij2gKy"
      },
      "execution_count": null,
      "outputs": []
    },
    {
      "cell_type": "code",
      "source": [
        "prompt = \"The first drop of rain echoed the start of\""
      ],
      "metadata": {
        "id": "K-nM1LWU0UDq"
      },
      "execution_count": null,
      "outputs": []
    },
    {
      "cell_type": "markdown",
      "source": [
        "Test Topic"
      ],
      "metadata": {
        "id": "zn2de9atzFbX"
      }
    },
    {
      "cell_type": "code",
      "source": [
        "# Science\n",
        "prompt = \"Water boils faster at higher altitudes due to lower air pressure\""
      ],
      "metadata": {
        "id": "B0D8QRCPzG89"
      },
      "execution_count": null,
      "outputs": []
    },
    {
      "cell_type": "code",
      "source": [
        "# History\n",
        "prompt = \"The Great Wall of China was built to protect against invasions.\""
      ],
      "metadata": {
        "id": "17Y5n1pDzMGv"
      },
      "execution_count": null,
      "outputs": []
    },
    {
      "cell_type": "code",
      "source": [
        "# Technology\n",
        "prompt = \"Smartphones now use AI to enhance photo quality in real time\""
      ],
      "metadata": {
        "id": "TSViwLMYzOZf"
      },
      "execution_count": 4,
      "outputs": []
    },
    {
      "cell_type": "code",
      "source": [
        "# Emotion\n",
        "prompt = \"She smiled through the pain, hiding her sadness from the world\""
      ],
      "metadata": {
        "id": "pjauGXBZzfts"
      },
      "execution_count": 37,
      "outputs": []
    },
    {
      "cell_type": "code",
      "source": [
        "# Education\n",
        "prompt = \"Students learn better when lessons are interactive and engaging\""
      ],
      "metadata": {
        "id": "ZdKUWooRzl7H"
      },
      "execution_count": null,
      "outputs": []
    },
    {
      "cell_type": "markdown",
      "source": [
        "Test Positivity Islam"
      ],
      "metadata": {
        "id": "VTccL6blFty8"
      }
    },
    {
      "cell_type": "code",
      "source": [
        "prompt = \"I feel peace when I recite the Qur'an\""
      ],
      "metadata": {
        "id": "H7gHIjCRFxhX"
      },
      "execution_count": null,
      "outputs": []
    },
    {
      "cell_type": "code",
      "source": [
        "prompt = \"I’m grateful for the blessings Allah gives\""
      ],
      "metadata": {
        "id": "DJs3xugeHFyb"
      },
      "execution_count": null,
      "outputs": []
    },
    {
      "cell_type": "code",
      "source": [
        "prompt = \"Helping others for the sake of Allah makes me happy\""
      ],
      "metadata": {
        "id": "NNcv5x7oHQGC"
      },
      "execution_count": null,
      "outputs": []
    },
    {
      "cell_type": "code",
      "source": [
        "prompt = \"Praying brings joy to my heart\""
      ],
      "metadata": {
        "id": "d4NwrmZSHXVT"
      },
      "execution_count": null,
      "outputs": []
    },
    {
      "cell_type": "markdown",
      "source": [
        "Test Positivity"
      ],
      "metadata": {
        "id": "53xlHukuHgrE"
      }
    },
    {
      "cell_type": "code",
      "source": [
        "prompt = \"Her kind words filled me with gratitude and warmth\""
      ],
      "metadata": {
        "id": "sMWrFdQqHfrU"
      },
      "execution_count": null,
      "outputs": []
    },
    {
      "cell_type": "code",
      "source": [
        "prompt = \"I feel incredibly grateful for all the support and kindness I've received\""
      ],
      "metadata": {
        "id": "yfCE9_HQIZmR"
      },
      "execution_count": null,
      "outputs": []
    },
    {
      "cell_type": "code",
      "source": [
        "prompt = \"Even though it's tough right now, I have an unwavering belief in your strength and ability to overcome this\""
      ],
      "metadata": {
        "id": "Elzx5glmItvd"
      },
      "execution_count": null,
      "outputs": []
    },
    {
      "cell_type": "code",
      "source": [
        "prompt = \"Every step you take, no matter how small, is progress, and I'm so inspired\""
      ],
      "metadata": {
        "id": "WN1BOk6FIxmk"
      },
      "execution_count": null,
      "outputs": []
    },
    {
      "cell_type": "code",
      "source": [
        "prompt = \"Your resilience in the face of this difficulty is truly good\""
      ],
      "metadata": {
        "id": "ltDVkMZJI5zF"
      },
      "execution_count": null,
      "outputs": []
    },
    {
      "cell_type": "markdown",
      "source": [
        "Stochastic Decoding"
      ],
      "metadata": {
        "id": "cpX_qUzUivjk"
      }
    },
    {
      "cell_type": "code",
      "execution_count": 25,
      "metadata": {
        "id": "q1xZcnKx5Txd"
      },
      "outputs": [],
      "source": [
        "# Set pad_token_id if not already set\n",
        "if tokenizer.pad_token_id is None:\n",
        "    tokenizer.pad_token = tokenizer.eos_token\n",
        "\n",
        "inputs = tokenizer(prompt, return_tensors=\"pt\", padding=True).to(device)\n",
        "\n",
        "output = model.generate(\n",
        "    input_ids=inputs[\"input_ids\"],\n",
        "    attention_mask=inputs[\"attention_mask\"],\n",
        "    max_length=max_length,\n",
        "    min_length=min_length,\n",
        "    top_k=top_k,\n",
        "    top_p=top_p,\n",
        "    temperature=temperature,\n",
        "    repetition_penalty=repetition_penalty,\n",
        "    do_sample=True,\n",
        "    use_cache=True,\n",
        "    pad_token_id=tokenizer.pad_token_id\n",
        ")\n",
        "\n",
        "decoded_output = tokenizer.decode(output[0], skip_special_tokens=True)"
      ]
    },
    {
      "cell_type": "markdown",
      "source": [
        "Greedy Decoding"
      ],
      "metadata": {
        "id": "M7fUgI29j0aY"
      }
    },
    {
      "cell_type": "code",
      "source": [
        "# Set pad_token_id if not already set\n",
        "if tokenizer.pad_token_id is None:\n",
        "    tokenizer.pad_token = tokenizer.eos_token\n",
        "\n",
        "# Tokenize with attention_mask\n",
        "inputs = tokenizer(prompt, return_tensors=\"pt\", padding=True).to(device)\n",
        "\n",
        "# Greedy Decoding (do_sample=False)\n",
        "greedy_output = model.generate(\n",
        "    input_ids=inputs[\"input_ids\"],\n",
        "    attention_mask=inputs[\"attention_mask\"],\n",
        "    max_length=max_length,\n",
        "    min_length=min_length,\n",
        "    do_sample=False,\n",
        "    repetition_penalty=repetition_penalty,\n",
        "    use_cache=True,\n",
        "    pad_token_id=tokenizer.pad_token_id\n",
        ")\n",
        "\n",
        "# Decode the output\n",
        "decoded_output = tokenizer.decode(greedy_output[0], skip_special_tokens=True)"
      ],
      "metadata": {
        "id": "XvoNkdP-iukM"
      },
      "execution_count": 32,
      "outputs": []
    },
    {
      "cell_type": "markdown",
      "source": [
        "Display Text"
      ],
      "metadata": {
        "id": "Cdf1nqCMwj2W"
      }
    },
    {
      "cell_type": "code",
      "source": [
        "from IPython.display import HTML, display\n",
        "\n",
        "# Sample model name\n",
        "model_name = repo\n",
        "\n",
        "# Replace newlines with <br>\n",
        "formatted_output = decoded_output.replace(\"\\n\", \"<br>\")\n",
        "\n",
        "# HTML and CSS with model name outside the box\n",
        "html_code = f\"\"\"\n",
        "<div style='margin-bottom: 5px; font-family: sans-serif; font-weight: bold;'>repo : {model_name}</div>\n",
        "<div style='border: 2px solid black; padding: 10px; width: 500px; height: 300px; overflow: auto;'>\n",
        "    <p style='font-family: monospace;'>{formatted_output}</p>\n",
        "</div>\n",
        "\"\"\"\n",
        "\n",
        "# Display the styled output\n",
        "display(HTML(html_code))\n"
      ],
      "metadata": {
        "id": "eukuIxnpcTdF"
      },
      "execution_count": null,
      "outputs": []
    },
    {
      "cell_type": "code",
      "source": [
        "from IPython.display import HTML, display\n",
        "\n",
        "# Sample model name\n",
        "model_name = repo\n",
        "\n",
        "# Replace newlines with <br>\n",
        "formatted_output = decoded_output.replace(\"\\n\", \"<br>\")\n",
        "\n",
        "# HTML and CSS with model name outside the box\n",
        "html_code = f\"\"\"\n",
        "<div style='margin-bottom: 5px; font-family: sans-serif; font-weight: bold;'>repo : {model_name}</div>\n",
        "<div style='border: 2px solid black; padding: 10px; width: 500px; height: 300px; overflow: auto;'>\n",
        "    <p style='font-family: monospace;'>{formatted_output}</p>\n",
        "</div>\n",
        "\"\"\"\n",
        "\n",
        "# Display the styled output\n",
        "display(HTML(html_code))\n"
      ],
      "metadata": {
        "id": "iGynYZL3wmU_"
      },
      "execution_count": null,
      "outputs": []
    }
  ],
  "metadata": {
    "colab": {
      "provenance": []
    },
    "kernelspec": {
      "display_name": "Python 3",
      "name": "python3"
    },
    "language_info": {
      "name": "python"
    }
  },
  "nbformat": 4,
  "nbformat_minor": 0
}